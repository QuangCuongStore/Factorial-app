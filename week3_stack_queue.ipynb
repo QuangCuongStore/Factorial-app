{
  "nbformat": 4,
  "nbformat_minor": 0,
  "metadata": {
    "colab": {
      "provenance": [],
      "authorship_tag": "ABX9TyN+1qFyAA36+6Kecm0lvkzI",
      "include_colab_link": true
    },
    "kernelspec": {
      "name": "python3",
      "display_name": "Python 3"
    },
    "language_info": {
      "name": "python"
    }
  },
  "cells": [
    {
      "cell_type": "markdown",
      "metadata": {
        "id": "view-in-github",
        "colab_type": "text"
      },
      "source": [
        "<a href=\"https://colab.research.google.com/github/Codetomoonround/Factorial-app/blob/main/week3_stack_queue.ipynb\" target=\"_parent\"><img src=\"https://colab.research.google.com/assets/colab-badge.svg\" alt=\"Open In Colab\"/></a>"
      ]
    },
    {
      "cell_type": "code",
      "execution_count": 1,
      "metadata": {
        "id": "Fh8EtEC2PB-j"
      },
      "outputs": [],
      "source": [
        "class MyStack:\n",
        "  def __init__(self, capacity):\n",
        "    self.capacity = capacity\n",
        "    self.stack = []\n",
        "\n",
        "  def is_empty(self):\n",
        "    if len(self.stack) == 0:\n",
        "      return True\n",
        "    else:\n",
        "      return False\n",
        "\n",
        "  def is_full(self):\n",
        "    if len(self.stack) == self.capacity:\n",
        "      return True\n",
        "    else:\n",
        "      return False\n",
        "\n",
        "  def push(self, value):\n",
        "    if self.is_full() == True:\n",
        "      print(\"Stack is full\")\n",
        "    else:\n",
        "      self.stack.append(value)\n",
        "\n",
        "  def pop(self):\n",
        "    if self.is_empty() == True:\n",
        "      print(\"Stack is empty\")\n",
        "    else:\n",
        "      self.stack.pop()\n",
        "\n",
        "  def top(self):\n",
        "    if self.is_empty() == True:\n",
        "      print(\"Stack is empty\")\n",
        "    else:\n",
        "      return self.stack[-1]\n",
        "\n",
        "  def size(self):\n",
        "    return len(self.stack)"
      ]
    },
    {
      "cell_type": "code",
      "source": [
        "stack = MyStack(5)\n",
        "stack.push(1)\n",
        "stack.push(2)\n",
        "stack.push(3)\n",
        "stack.push(4)\n",
        "stack.push(5)\n",
        "stack.push(6)\n",
        "print(stack.stack)\n",
        "stack.pop()\n",
        "print(stack.stack)\n",
        "print(stack.top())\n",
        "print(stack.size())"
      ],
      "metadata": {
        "colab": {
          "base_uri": "https://localhost:8080/"
        },
        "id": "YOIFRpHFV7k7",
        "outputId": "c7724816-f547-4221-ab8c-971d8cd4bb07"
      },
      "execution_count": 5,
      "outputs": [
        {
          "output_type": "stream",
          "name": "stdout",
          "text": [
            "Stack is full\n",
            "[1, 2, 3, 4, 5]\n",
            "[1, 2, 3, 4]\n",
            "4\n",
            "4\n"
          ]
        }
      ]
    },
    {
      "cell_type": "code",
      "source": [
        "class MyQueue:\n",
        "  def __init__(self, capacity):\n",
        "    self.capacity = capacity\n",
        "    self.queue = []\n",
        "\n",
        "  def is_empty(self):\n",
        "    if len(self.queue) == 0:\n",
        "      return True\n",
        "    else:\n",
        "      return False\n",
        "\n",
        "  def is_full(self):\n",
        "    if len(self.queue) == self.capacity:\n",
        "      return True\n",
        "    else:\n",
        "      return False\n",
        "\n",
        "  def enqueue(self, value):\n",
        "    if self.is_full() == True:\n",
        "      print(\"Queue is full\")\n",
        "    else:\n",
        "      self.queue.append(value)\n",
        "\n",
        "  def dequeue(self):\n",
        "    if self.is_empty() == True:\n",
        "      print(\"Queue is empty\")\n",
        "    else:\n",
        "      self.queue.pop(0)\n",
        "\n",
        "  def front(self):\n",
        "    if self.is_empty() == True:\n",
        "      print(\"Queue is empty\")\n",
        "    else:\n",
        "      return self.queue[0]\n",
        "\n",
        "  def size(self):\n",
        "    return len(self.queue)"
      ],
      "metadata": {
        "id": "B-0sga8cVnp_"
      },
      "execution_count": 3,
      "outputs": []
    },
    {
      "cell_type": "code",
      "source": [
        "queue = MyQueue(5)\n",
        "queue.enqueue(1)\n",
        "queue.enqueue(2)\n",
        "queue.enqueue(3)\n",
        "queue.enqueue(4)\n",
        "queue.enqueue(5)\n",
        "queue.enqueue(6)\n",
        "print(queue.queue)\n",
        "print(queue.front())\n",
        "queue.dequeue()\n",
        "print(queue.queue)\n",
        "print(queue.front())\n",
        "print(queue.size())\n",
        "queue.dequeue()\n",
        "queue.dequeue()\n",
        "\n",
        "print(queue.queue)"
      ],
      "metadata": {
        "colab": {
          "base_uri": "https://localhost:8080/"
        },
        "id": "cwx-L08uV6yF",
        "outputId": "91642410-e6bc-47c6-9ab6-33074e5e5184"
      },
      "execution_count": 9,
      "outputs": [
        {
          "output_type": "stream",
          "name": "stdout",
          "text": [
            "Queue is full\n",
            "[1, 2, 3, 4, 5]\n",
            "1\n",
            "[2, 3, 4, 5]\n",
            "2\n",
            "4\n",
            "[4, 5]\n"
          ]
        }
      ]
    }
  ]
}